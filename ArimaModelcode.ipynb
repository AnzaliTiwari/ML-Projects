{
  "nbformat": 4,
  "nbformat_minor": 0,
  "metadata": {
    "colab": {
      "provenance": [],
      "collapsed_sections": []
    },
    "kernelspec": {
      "name": "python3",
      "display_name": "Python 3"
    },
    "language_info": {
      "name": "python"
    }
  },
  "cells": [
    {
      "cell_type": "code",
      "source": [
        "#library\n",
        "import numpy as np\n",
        "import matplotlib.pyplot as plt\n",
        "import statsmodels.api as sms\n",
        "import pandas as pd\n",
        "\n",
        "%matplotlib inline"
      ],
      "metadata": {
        "id": "JknT03GzqEcI"
      },
      "execution_count": 2,
      "outputs": []
    },
    {
      "cell_type": "code",
      "source": [
        "#Loading the dataset and converting time column in datetime format \n",
        "df=pd.read_excel('abc.xlsx')\n",
        "#print('Shape of data',df.shape)\n",
        "## Drop 1st Column\n",
        "df.drop('Title',axis=1,inplace=True)\n",
        "df['time']=df['time'].apply(lambda x: pd.Timestamp(x).strftime('%Y-%m-%d %H:%M' ))\n",
        "df"
      ],
      "metadata": {
        "id": "sMZFwfXnqUWN"
      },
      "execution_count": null,
      "outputs": []
    },
    {
      "cell_type": "code",
      "source": [
        "df.set_index('time',inplace=True)\n",
        "df\n"
      ],
      "metadata": {
        "id": "BpciQdOnqrwr"
      },
      "execution_count": null,
      "outputs": []
    },
    {
      "cell_type": "code",
      "source": [
        "### Testing For Stationarity\n",
        "# Method 1 -  Rolling Statistics\n",
        "# Method 2 -  Duckey fuller   <-----\n",
        "\n",
        "from statsmodels.tsa.stattools import adfuller \n",
        "def adf_test(series):\n",
        "    result=adfuller(series)\n",
        "    print('ADF Statistics: {}'.format(result[0]))\n",
        "    print('p- value: {}'.format(result[1]))\n",
        "    if result[1] <= 0.05:\n",
        "        print(\"strong evidence against the null hypothesis, reject the null hypothesis. Data has no unit root and is stationary\")\n",
        "    else:\n",
        "        print(\"weak evidence against null hypothesis, time series has a unit root, indicating it is non-stationary \")\n",
        "        \n",
        "adf_test(df['views'])"
      ],
      "metadata": {
        "id": "WWVVqKJwqura"
      },
      "execution_count": null,
      "outputs": []
    },
    {
      "cell_type": "code",
      "source": [
        "# If model is stationary,below graph To get the p,q & d value from the ACF and PACF plot\n",
        "from statsmodels.graphics.tsaplots import plot_acf,plot_pacf\n",
        "acf = plot_acf(df[\"views\"].dropna())\n",
        "pacf = plot_pacf(df[\"views\"].dropna())"
      ],
      "metadata": {
        "id": "MCBsYySmqyve"
      },
      "execution_count": null,
      "outputs": []
    },
    {
      "cell_type": "code",
      "source": [
        "#First differencing for making the data stationary\n",
        "df['Views f Difference'] = df['views'] - df['views'].shift(1)\n",
        "df['views'].shift(1)"
      ],
      "metadata": {
        "id": "D2rnFYl5QH0G"
      },
      "execution_count": null,
      "outputs": []
    },
    {
      "cell_type": "code",
      "source": [
        "## Again test dickey fuller test\n",
        "adf_test(df['Views f Difference'].dropna())"
      ],
      "metadata": {
        "id": "Ofu6ghJiQJwx"
      },
      "execution_count": null,
      "outputs": []
    },
    {
      "cell_type": "code",
      "source": [
        "#Second differencing for making the data stationary, if first differencing didnt worked\n",
        "df['Views s Difference'] = df['Views f Difference'] - df['Views f Difference'].shift(1)\n",
        "df['Views f Difference'].shift(1)"
      ],
      "metadata": {
        "id": "62OygdAEfgwF"
      },
      "execution_count": null,
      "outputs": []
    },
    {
      "cell_type": "code",
      "source": [
        "## Again test dickey fuller test for second differncing variable\n",
        "adf_test(df['Views s Difference'].dropna())"
      ],
      "metadata": {
        "id": "6NUA5YqSfy0B"
      },
      "execution_count": null,
      "outputs": []
    },
    {
      "cell_type": "code",
      "source": [
        "#Third differencing for making the data stationary, if second differencing didnt worked\n",
        "df['Views t Difference'] = df['Views s Difference'] - df['Views s Difference'].shift(1)\n",
        "df['Views s Difference'].shift(1)"
      ],
      "metadata": {
        "id": "GgYRyR_68Lrb"
      },
      "execution_count": null,
      "outputs": []
    },
    {
      "cell_type": "code",
      "source": [
        "## Again test dickey fuller test of third differencing\n",
        "adf_test(df['Views t Difference'].dropna())"
      ],
      "metadata": {
        "id": "1nhMlQzW8Lc_"
      },
      "execution_count": null,
      "outputs": []
    },
    {
      "cell_type": "code",
      "source": [
        "#Once the data is stationary,To get the p,q & d value from the ACF and PACF plot\n",
        "from statsmodels.graphics.tsaplots import plot_acf,plot_pacf\n",
        "acf = plot_acf(df[\"Views f Difference\"].dropna())\n",
        "pacf = plot_pacf(df[\"Views f Difference\"].dropna())"
      ],
      "metadata": {
        "id": "RH3JUXSvQM62"
      },
      "execution_count": null,
      "outputs": []
    },
    {
      "cell_type": "code",
      "source": [
        "len(df)"
      ],
      "metadata": {
        "id": "ONjn90C2RufX"
      },
      "execution_count": null,
      "outputs": []
    },
    {
      "cell_type": "code",
      "source": [
        "x= df.iloc[:x,:] ##train dataset  80% of full dataset\n",
        "y=df.iloc[x:y,:]###test_dataset   20 % data for training\n"
      ],
      "metadata": {
        "id": "Eq6xs3fDRwiu"
      },
      "execution_count": 17,
      "outputs": []
    },
    {
      "cell_type": "code",
      "source": [
        "##prediction\n",
        "pred_start_date=y.index[0]\n",
        "pred_end_date=y.index[-1]"
      ],
      "metadata": {
        "id": "PQU8L95MsUej"
      },
      "execution_count": 18,
      "outputs": []
    },
    {
      "cell_type": "code",
      "source": [
        "## create a ARIMA model\n",
        "from statsmodels.tsa.arima_model import ARIMA\n",
        "model_ARIMA=sms.tsa.arima.ARIMA(y['views'],order=(p,d,q))  # value of p , d, q\n",
        "model=model_ARIMA.fit()\n",
        "print(model.summary())"
      ],
      "metadata": {
        "id": "I_SaRORAsaIJ"
      },
      "execution_count": null,
      "outputs": []
    },
    {
      "cell_type": "code",
      "source": [
        "##prediction\n",
        "pred_start_date=y.index[0]\n",
        "pred_end_date=y.index[-1]\n",
        "print(pred_start_date)\n",
        "print(pred_end_date)"
      ],
      "metadata": {
        "id": "ZCawi0JMsiSF"
      },
      "execution_count": null,
      "outputs": []
    },
    {
      "cell_type": "code",
      "source": [
        "pred=model.predict(start=pred_start_date,end=pred_end_date)\n",
        "residuals=y['views']-pred"
      ],
      "metadata": {
        "id": "nACHX5Yct1Eq"
      },
      "execution_count": null,
      "outputs": []
    },
    {
      "cell_type": "code",
      "source": [
        "pred"
      ],
      "metadata": {
        "id": "nhs8cXhqt45K"
      },
      "execution_count": null,
      "outputs": []
    },
    {
      "cell_type": "code",
      "source": [
        "y['Predicted_ARIMA']=pred\n",
        "print(pred)"
      ],
      "metadata": {
        "id": "5q9gMUaDuE71"
      },
      "execution_count": null,
      "outputs": []
    },
    {
      "cell_type": "code",
      "source": [
        "y.reset_index('time',inplace=True)\n",
        "df1=pd.DataFrame({'time':y['time'],'View':y['views'],'Predicted_ARIMA':y['Predicted_ARIMA']})\n"
      ],
      "metadata": {
        "id": "j1Oa7minuNyP"
      },
      "execution_count": 24,
      "outputs": []
    },
    {
      "cell_type": "code",
      "source": [
        "\n",
        "!pip install xlsxwriter"
      ],
      "metadata": {
        "id": "Ty0107aMuRJm"
      },
      "execution_count": null,
      "outputs": []
    },
    {
      "cell_type": "code",
      "source": [
        "\n",
        "#future dates \n",
        "index_future_dates=pd.date_range(start='', end='',freq='5min')   # for start variable take the last time stamp and for end variable the timetill you want to predict\n",
        "pred=model.predict(start=len(df1),end=len(df1)+25,typ='levels').rename('ARIMA PREDICTION')\n",
        "pred.index=index_future_dates\n",
        "print(pred)"
      ],
      "metadata": {
        "id": "O4GF-4UPuUsL"
      },
      "execution_count": null,
      "outputs": []
    },
    {
      "cell_type": "code",
      "source": [
        "writer=pd.ExcelWriter('result.xlsx',engine='xlsxwriter')\n",
        "pred.to_excel(writer,sheet_name='Sheet1',index=True)\n",
        "writer.close()"
      ],
      "metadata": {
        "id": "VDBfT97YurIs"
      },
      "execution_count": null,
      "outputs": []
    },
    {
      "cell_type": "code",
      "source": [],
      "metadata": {
        "id": "i-U8iy3mJsGN"
      },
      "execution_count": null,
      "outputs": []
    }
  ]
}